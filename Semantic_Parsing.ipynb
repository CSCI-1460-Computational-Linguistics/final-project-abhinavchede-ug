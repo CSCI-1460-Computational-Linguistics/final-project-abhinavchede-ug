{
  "cells": [
    {
      "cell_type": "markdown",
      "metadata": {
        "id": "OPK_c2EALwij"
      },
      "source": [
        "# Semantic Parsing Final Project\n",
        "Link to the paper: https://aclanthology.org/P16-1004.pdf\n",
        "\n",
        "Read through the paper fully before starting the assignment!"
      ]
    },
    {
      "cell_type": "code",
      "execution_count": 5,
      "metadata": {
        "id": "b0MLqDYLdLHF",
        "colab": {
          "base_uri": "https://localhost:8080/"
        },
        "outputId": "40520a61-e21b-4c35-e61f-2335b27b6044"
      },
      "outputs": [
        {
          "output_type": "stream",
          "name": "stdout",
          "text": [
            "Mounted at /content/drive\n"
          ]
        }
      ],
      "source": [
        "import torch\n",
        "import torch.nn as nn\n",
        "\n",
        "from google.colab import drive\n",
        "drive.mount('/content/drive')\n",
        "\n",
        "FILEPATH = \"drive/MyDrive/data/\""
      ]
    },
    {
      "cell_type": "markdown",
      "metadata": {
        "id": "9mewu8d2qACH"
      },
      "source": [
        "# Data Downloading\n",
        "This cell obtains the pre-processed Jobs dataset (see the paper) that you will be using to train and evaluate your model. (Pre-processed meaning that argument identification, section 3.6, has already been done for you). You should only need to run this cell ***once***. Feel free to delete it after running. Create a folder in your Google Drive in which the code below will store the pre-processed data needed for this project. Modify `FILEPATH` above to direct to said folder. It should start with `drive/MyDrive/...`, feel free to take a look at previous assignments that use mounting Google Drive if you can't remember what it should look like. *Make sure the data path ends with a slash character ('/').* The below code will access the zip file containing the pre-processed Jobs dataset from the paper and extract the files into your folder! Feel free to take a look at the `train.txt` and `test.txt` files to see what the data looks like. :)"
      ]
    },
    {
      "cell_type": "code",
      "execution_count": 6,
      "metadata": {
        "id": "hXiL6mlFmssL",
        "colab": {
          "base_uri": "https://localhost:8080/"
        },
        "outputId": "9a1933bb-c6b1-45f0-dc73-7318636f4623"
      },
      "outputs": [
        {
          "output_type": "stream",
          "name": "stdout",
          "text": [
            "Extraction completed.\n"
          ]
        }
      ],
      "source": [
        "import requests\n",
        "import io\n",
        "import zipfile\n",
        "\n",
        "# https://stackoverflow.com/questions/31126596/saving-response-from-requests-to-file\n",
        "response = requests.get('http://dong.li/lang2logic/seq2seq_jobqueries.zip')\n",
        "if response.status_code == 200:\n",
        "  # https://stackoverflow.com/questions/3451111/unzipping-files-in-python\n",
        "  with zipfile.ZipFile(io.BytesIO(response.content), \"r\") as zip_ref:\n",
        "    zip_ref.extractall(FILEPATH)\n",
        "  print(\"Extraction completed.\")\n",
        "else:\n",
        "  print(\"Failed to download the zip file.\")"
      ]
    },
    {
      "cell_type": "markdown",
      "metadata": {
        "id": "_hfJFfYRSFBV"
      },
      "source": [
        "# Data Pre-processing\n",
        "The following code is defined for you! It extracts the queries (inputs to your Seq2Seq model) and logical forms (expected outputs) from the training and testing files. It also does important pre-processing such as padding the queries and logical forms and turns the words into vocab indices. **Look over and understand this code before you start the assignment!**"
      ]
    },
    {
      "cell_type": "code",
      "execution_count": 7,
      "metadata": {
        "id": "oEwaCwJhb9kL"
      },
      "outputs": [],
      "source": [
        "def extract_file(filename):\n",
        "  \"\"\"\n",
        "  Extracts queries and corresponding logical forms from either\n",
        "  train.txt or test.txt. (Feel free to take a look at the files themselves\n",
        "  in your Drive!)\n",
        "\n",
        "  Parameters\n",
        "  ----------\n",
        "  filename : str\n",
        "      name of the file to extract from\n",
        "\n",
        "  Returns\n",
        "  ----------\n",
        "  tuple[list[list[str]], list[list[str]]]\n",
        "      a tuple of a list of queries and their corresponding logical forms\n",
        "      each in the form of a list of string tokens\n",
        "  \"\"\"\n",
        "  queries, logical_forms = [], []\n",
        "  with open(FILEPATH + filename) as f:\n",
        "    for line in f:\n",
        "      line = line.strip() # remove new line character\n",
        "      query, logical_form = line.split('\\t')\n",
        "\n",
        "      query = query.split(' ')[::-1] # reversed inputs are used the paper (section 4.2)\n",
        "      logical_form = [\"<s>\"] + logical_form.split(' ') + [\"</s>\"]\n",
        "\n",
        "      queries.append(query)\n",
        "      logical_forms.append(logical_form)\n",
        "  return queries, logical_forms\n",
        "\n",
        "query_train, lf_train = extract_file('train.txt') # 500 instances\n",
        "query_test, lf_test = extract_file('test.txt') # 140 instances"
      ]
    },
    {
      "cell_type": "code",
      "execution_count": 8,
      "metadata": {
        "id": "KEG4r-BpA3mH"
      },
      "outputs": [],
      "source": [
        "from collections import Counter\n",
        "\n",
        "query_vocab = Counter()\n",
        "for l in query_train:\n",
        "  query_vocab.update(l)\n",
        "\n",
        "query_word2idx = {}\n",
        "for w, c in query_vocab.items():\n",
        "  if c >= 2:\n",
        "    query_word2idx[w] = len(query_word2idx)\n",
        "query_word2idx['<UNK>'] = len(query_word2idx)\n",
        "query_word2idx['<PAD>'] = len(query_word2idx)\n",
        "query_idx2word = {i:word for word,i in query_word2idx.items()}\n",
        "\n",
        "query_vocab = list(query_word2idx.keys())\n",
        "\n",
        "lf_vocab = Counter()\n",
        "for lf in lf_train:\n",
        "  lf_vocab.update(lf)\n",
        "\n",
        "lf_vocab['<UNK>'] = 0\n",
        "lf_vocab['<PAD>'] = 0\n",
        "lf_idx2word = {i:word for i, word in enumerate(lf_vocab.keys())}\n",
        "lf_word2idx = {word:i for i, word in lf_idx2word.items()}"
      ]
    },
    {
      "cell_type": "code",
      "execution_count": 9,
      "metadata": {
        "id": "6NH1EXAqDgnR"
      },
      "outputs": [],
      "source": [
        "query_train_tokens = [[query_word2idx.get(w, query_word2idx['<UNK>']) for w in l] for l in query_train]\n",
        "query_test_tokens = [[query_word2idx.get(w, query_word2idx['<UNK>']) for w in l] for l in query_test]\n",
        "\n",
        "lf_train_tokens = [[lf_word2idx.get(w, lf_word2idx['<UNK>']) for w in l] for l in lf_train]\n",
        "lf_test_tokens = [[lf_word2idx.get(w, lf_word2idx['<UNK>']) for w in l] for l in lf_test]\n",
        "\n",
        "def pad(seq, max_len, pad_token_idx):\n",
        "  \"\"\"\n",
        "  Pads a given sequence to the max length using the given padding token index\n",
        "\n",
        "  Parameters\n",
        "  ----------\n",
        "  seq : list[int]\n",
        "      sequence in the form of a list of vocab indices\n",
        "  max_len : int\n",
        "      length sequence should be padded to\n",
        "  pad_token_idx\n",
        "      vocabulary index of the padding token\n",
        "\n",
        "  Returns\n",
        "  ----------\n",
        "  list[int]\n",
        "      padded sequence\n",
        "  \"\"\"\n",
        "  seq = seq[:max_len]\n",
        "  padded_seq = seq + (max_len - len(seq)) * [pad_token_idx]\n",
        "  return padded_seq\n",
        "\n",
        "query_max_target_len = max([len(i) for i in query_train_tokens])\n",
        "query_train_tokens = [pad(i, query_max_target_len, query_word2idx['<PAD>']) for i in query_train_tokens]\n",
        "query_test_tokens = [pad(i, query_max_target_len, query_word2idx['<PAD>']) for i in query_test_tokens]\n",
        "\n",
        "lf_max_target_len = int(max([len(i) for i in lf_train_tokens]) * 1.5)\n",
        "lf_train_tokens = [pad(i, lf_max_target_len, lf_word2idx['<PAD>']) for i in lf_train_tokens]\n",
        "lf_test_tokens = [pad(i, lf_max_target_len, lf_word2idx['<PAD>']) for i in lf_test_tokens]"
      ]
    },
    {
      "cell_type": "markdown",
      "metadata": {
        "id": "RCKjb4HsMKw-"
      },
      "source": [
        "# Data Loading\n",
        "The following code creates a JobsDataset and DataLoaders to use with your implemented model. Take a look at the main function at the end of this stencil to see how they are used in context."
      ]
    },
    {
      "cell_type": "code",
      "execution_count": 10,
      "metadata": {
        "id": "PginNNZ2sqqN"
      },
      "outputs": [],
      "source": [
        "from torch.utils.data import Dataset, DataLoader, default_collate\n",
        "\n",
        "class JobsDataset(Dataset):\n",
        "  \"\"\"Defines a Dataset object for the Jobs dataset to be used with Dataloader\"\"\"\n",
        "  def __init__(self, queries, logical_forms):\n",
        "    \"\"\"\n",
        "    Initializes a JobsDataset\n",
        "\n",
        "    Parameters\n",
        "    ----------\n",
        "    queries : list[list[int]]\n",
        "        a list of queries, which have been tokenized and padded, in the form\n",
        "        of a list of vocab indices\n",
        "    logical_forms : list[list[int]]\n",
        "        a list of corresponding logical forms, which have been tokenized and\n",
        "        padded, in the form of a list of vocab indices\n",
        "    \"\"\"\n",
        "    self.queries = queries\n",
        "    self.logical_forms = logical_forms\n",
        "\n",
        "  def __len__(self) -> int:\n",
        "    \"\"\"\n",
        "    Returns the amount of paired queries and logical forms in the dataset\n",
        "\n",
        "    Returns\n",
        "    ----------\n",
        "    int\n",
        "        length of the dataset\n",
        "    \"\"\"\n",
        "    return len(self.queries)\n",
        "\n",
        "  def __getitem__(self, idx: int) -> tuple[list[int], list[int]]:\n",
        "    \"\"\"\n",
        "    Returns a paired query and logical form at the specified index\n",
        "\n",
        "    Parameters\n",
        "    ----------\n",
        "    idx : int\n",
        "        specified index of the dataset\n",
        "\n",
        "    Returns\n",
        "    ----------\n",
        "    tuple[list[int], list[int]]\n",
        "        paired query and logical form at the specified index, in the form of\n",
        "        a list of vocab indices\n",
        "    \"\"\"\n",
        "    return self.queries[idx], self.logical_forms[idx]\n",
        "\n",
        "def build_datasets() -> tuple[JobsDataset, JobsDataset]:\n",
        "  \"\"\"\n",
        "  Builds a train and a test dataset from the queries and logical forms\n",
        "  train and test tokens\n",
        "\n",
        "  Returns\n",
        "  ----------\n",
        "  tuple[JobsDataset, JobsDataset]\n",
        "      a training and testing JobsDataset\n",
        "  \"\"\"\n",
        "  jobs_train = JobsDataset(queries=query_train_tokens, logical_forms=lf_train_tokens)\n",
        "  jobs_test = JobsDataset(queries=query_test_tokens, logical_forms=lf_test_tokens)\n",
        "  return jobs_train, jobs_test\n",
        "\n",
        "def collate(batch : list[tuple[list[int], list[int]]]) -> tuple[torch.Tensor, torch.Tensor]:\n",
        "  \"\"\"\n",
        "  Used as collate_fn when creating the Dataloaders from the dataset\n",
        "\n",
        "  Parameters\n",
        "  ----------\n",
        "  batch : list[tuple[list[int], list[int]]]\n",
        "      a list of outputs of __getitem__\n",
        "\n",
        "  Returns\n",
        "  ----------\n",
        "  tuple[torch.Tensor, torch.Tensor]\n",
        "      a batched set of input sequences and a batched set of target sequences\n",
        "  \"\"\"\n",
        "  src, tgt = default_collate(batch)\n",
        "  return torch.stack(src), torch.stack(tgt)\n",
        "\n",
        "def build_dataloaders(dataset_train: JobsDataset, dataset_test: JobsDataset,\n",
        "                      train_batch_size: int) -> tuple[DataLoader, DataLoader]:\n",
        "  \"\"\"\n",
        "  Used as collate_fn when creating the Dataloaders from the dataset, batching\n",
        "  the training data according to the inputted batch size and batching the\n",
        "  testing data with a batch size of 1\n",
        "\n",
        "  Parameters\n",
        "  ----------\n",
        "  dataset_train : JobsDataset\n",
        "      training dataset\n",
        "  dataset_test : JobsDataset\n",
        "      testing dataset\n",
        "  train_batch_size : int\n",
        "      batch size to be used during training\n",
        "\n",
        "  Returns\n",
        "  ----------\n",
        "  tuple[DataLoader, DataLoader]\n",
        "      a training and testing DataLoader\n",
        "  \"\"\"\n",
        "  dataloader_train = DataLoader(dataset_train, batch_size=train_batch_size, shuffle=True, collate_fn=collate)\n",
        "  dataloader_test = DataLoader(dataset_test, batch_size=1, shuffle=False, collate_fn=collate)\n",
        "  return dataloader_train, dataloader_test"
      ]
    },
    {
      "cell_type": "markdown",
      "metadata": {
        "id": "VCDXsRIBIC42"
      },
      "source": [
        "# TODO: Define your model here!"
      ]
    },
    {
      "cell_type": "code",
      "source": [
        "QUERY_VOCAB_LEN = len(query_vocab)\n",
        "LF_VOCAB_LEN = len(lf_vocab)"
      ],
      "metadata": {
        "id": "FjKg5uC8qIXz"
      },
      "execution_count": 11,
      "outputs": []
    },
    {
      "cell_type": "code",
      "source": [
        "import torch\n",
        "import torch.nn as nn\n",
        "import torch.nn.functional as F\n",
        "\n",
        "class Encoder(nn.Module):\n",
        "    def __init__(self, input_dim, emb_dim, hidden_dim, n_layers, dropout):\n",
        "        super(Encoder, self).__init__()\n",
        "        # Converting each index in the vocabulary into a matrix of embeddings\n",
        "        self.embedding = nn.Embedding(input_dim, emb_dim)\n",
        "\n",
        "        # Creating a encoder lstm that takes inputs in embedding size and outputs in hidden dimension with a given number of layers\n",
        "        self.lstm = nn.LSTM(emb_dim, hidden_dim, n_layers, dropout=dropout, batch_first=True)\n",
        "\n",
        "\n",
        "    def forward(self, src):\n",
        "        embedded = self.embedding(src)\n",
        "        outputs, (hidden, cell) = self.lstm(embedded)\n",
        "        return outputs, hidden, cell\n",
        "\n",
        "class Decoder(nn.Module):\n",
        "    def __init__(self, target_vocab_size, emb_dim, hidden_dim, n_layers, dropout):\n",
        "        super(Decoder, self).__init__()\n",
        "        # Attention related attributes\n",
        "        self.weights1 = nn.Linear(hidden_dim, hidden_dim) # Learnable weights for attention\n",
        "        self.weights2 = nn.Linear(hidden_dim, hidden_dim) # Learnable weights for attention\n",
        "        self.tanh = nn.Tanh()\n",
        "        self.softmax = nn.Softmax(dim = 1)\n",
        "\n",
        "        # Converting each index in the output vocabulary into a matrix of embeddings\n",
        "        self.embedding = nn.Embedding(target_vocab_size, emb_dim)\n",
        "        self.lstm = nn.LSTM(emb_dim, hidden_dim, n_layers, dropout=dropout, batch_first=True)\n",
        "        self.fc_out = nn.Linear(hidden_dim, target_vocab_size)\n",
        "        self.log_softmax = nn.LogSoftmax(dim=1)\n",
        "\n",
        "    def forward(self, input, hidden, cell, encoder_outputs):\n",
        "        embeddings = self.embedding(input)\n",
        "        embedded = embeddings.unsqueeze(1)\n",
        "\n",
        "        _, (new_hidden, decoder_cell) = self.lstm(embedded, (hidden, cell))\n",
        "\n",
        "        # Attention Score calculations\n",
        "        last_hidden = (new_hidden.squeeze(0)).unsqueeze(2) # [1, Batch Size, Hidden Size] -> [Batch Size, Hidden Size, 1]\n",
        "        # Encoder outputs - [Batch Size, Seq Length, Hidden Size]\n",
        "        values = torch.bmm(encoder_outputs, last_hidden) # [Batch Size, Seq Length, 1]\n",
        "        attention_scores = self.softmax(values.squeeze(2)).unsqueeze(1) # [Batch Size, 1, Seq Length]\n",
        "\n",
        "        # Finding the contexts at the time step\n",
        "        context = torch.bmm(attention_scores, encoder_outputs) # [Batch Size, 1, Hidden Size]\n",
        "        context = context.squeeze(1) # [Batch Size, Hidden Size]\n",
        "\n",
        "        last_hidden = last_hidden.squeeze(2)\n",
        "        w1 = self.weights1(context)\n",
        "        w2 = self.weights2(last_hidden)\n",
        "\n",
        "        hidden_attention_t = self.tanh(w1 + w2)\n",
        "\n",
        "        outputs = self.fc_out(hidden_attention_t)\n",
        "        probs = self.log_softmax(outputs)\n",
        "        return probs, new_hidden, decoder_cell\n",
        "\n",
        "\n",
        "class Seq2Seq(nn.Module):\n",
        "    def __init__(self, encoder, decoder, device, tfr):\n",
        "        super(Seq2Seq, self).__init__()\n",
        "        self.encoder = encoder\n",
        "        self.decoder = decoder\n",
        "        self.device = device\n",
        "        self.tfr = tfr\n",
        "\n",
        "    def forward(self, src, trg):\n",
        "        trg_len = trg.shape[1]\n",
        "        batch_size = trg.shape[0]\n",
        "        trg_vocab_size = self.decoder.embedding.num_embeddings\n",
        "\n",
        "        # Outputs of decoder will be filled in here\n",
        "        outputs = torch.zeros(batch_size, trg_len, trg_vocab_size).to(self.device)\n",
        "        encoder_outputs, hidden, cell = self.encoder(src)\n",
        "        input = trg[:, 0]  # Start token\n",
        "\n",
        "        # Manually looping thorugh decoder to implement attention mechanism\n",
        "        for t in range(1, trg_len):\n",
        "            output, hidden, cell = self.decoder(input, hidden, cell, encoder_outputs)\n",
        "            outputs[:,t,:] = output\n",
        "            top1 = output.argmax(1)\n",
        "            if torch.rand(1).item() < self.tfr:\n",
        "              input = trg[:, t]\n",
        "            else :\n",
        "              input= top1\n",
        "\n",
        "        return outputs\n"
      ],
      "metadata": {
        "id": "ZWAv89tnMGR7"
      },
      "execution_count": 97,
      "outputs": []
    },
    {
      "cell_type": "code",
      "execution_count": 13,
      "metadata": {
        "id": "NG376y1VUkOh"
      },
      "outputs": [],
      "source": [
        "def create_model(emb_dim, hidden_dim, layers, drop_rate, tfr):\n",
        "    \"\"\"\n",
        "    Returns your model!\n",
        "\n",
        "    Returns\n",
        "    ----------\n",
        "    the model\n",
        "    \"\"\"\n",
        "\n",
        "    device = torch.device('cuda' if torch.cuda.is_available() else 'cpu')\n",
        "\n",
        "    encoder = Encoder(QUERY_VOCAB_LEN, emb_dim, hidden_dim, layers, drop_rate)\n",
        "    decoder = Decoder(LF_VOCAB_LEN, emb_dim, hidden_dim, layers, drop_rate)\n",
        "    model = Seq2Seq(encoder, decoder, device, tfr).to(device)\n",
        "    return model"
      ]
    },
    {
      "cell_type": "markdown",
      "metadata": {
        "id": "-YiYNa1FINe6"
      },
      "source": [
        "# TODO: Training and testing loops"
      ]
    },
    {
      "cell_type": "code",
      "execution_count": 14,
      "metadata": {
        "id": "2OdOyg8RHrc1"
      },
      "outputs": [],
      "source": [
        "LF_SOS_INDEX = lf_word2idx['<s>']\n",
        "LF_EOS_INDEX = lf_word2idx['</s>']\n",
        "LF_PAD_INDEX = lf_word2idx['<PAD>']"
      ]
    },
    {
      "cell_type": "code",
      "execution_count": 96,
      "metadata": {
        "id": "UT5eiZM0AnTf"
      },
      "outputs": [],
      "source": [
        "def get_outputs(batch, model, device, optimizer):\n",
        "    # getting the outputs of the model\n",
        "    source, target = batch\n",
        "    source = source.transpose(0, 1)\n",
        "    target = target.transpose(0, 1)\n",
        "    source, target = source.to(device), target.to(device)\n",
        "\n",
        "    outputs = model(source, target)\n",
        "\n",
        "    optimizer.zero_grad()\n",
        "\n",
        "    outputs = outputs[:, 1:].reshape(-1, outputs.shape[-1])\n",
        "    targets = target[:, 1:].reshape(-1)\n",
        "    return (outputs, targets)\n",
        "\n",
        "\n",
        "def train(model, train_dataloader, num_epochs, device, learning_rate, is_search):\n",
        "  \"\"\"\n",
        "  Trains your model!\n",
        "\n",
        "  Parameters\n",
        "  ----------\n",
        "  model : nn.Module\n",
        "      your model!\n",
        "  train_dataloader : DataLoader\n",
        "      a dataloader of the training data from build_dataloaders\n",
        "  num_epochs : int\n",
        "      number of epochs to train for\n",
        "  device : str\n",
        "      device that the model is running on\n",
        "\n",
        "  Returns\n",
        "  ----------\n",
        "  the model that has been trained\n",
        "  \"\"\"\n",
        "  model.to(device)\n",
        "  optimizer = torch.optim.AdamW(model.parameters(), lr=0.002)\n",
        "  loss_fn = nn.NLLLoss()\n",
        "\n",
        "  for epoch in range(num_epochs):\n",
        "      # Training the model\n",
        "      model.train()\n",
        "      tloss = 0\n",
        "      for batch in train_dataloader:\n",
        "          # getting the outputs of the model accordingly\n",
        "          outputs, targets = get_outputs(batch, model, device, optimizer)\n",
        "\n",
        "          # Upodating the loss value accordingly based on NLL Loss\n",
        "          loss = loss_fn(outputs, targets)\n",
        "          tloss += loss.item()\n",
        "\n",
        "          loss.backward()\n",
        "          optimizer.step()\n",
        "\n",
        "      print(\"Epoch\", epoch + 1, \"Loss\", round(tloss / len(train_dataloader), 4))\n",
        "\n",
        "  return model"
      ]
    },
    {
      "cell_type": "code",
      "execution_count": 83,
      "metadata": {
        "id": "nMrb0t96jwg5"
      },
      "outputs": [],
      "source": [
        "def get_preds(batch, model, device):\n",
        "    # Getting the ouputs of the model\n",
        "    source, target = batch\n",
        "    source = source.transpose(0, 1)\n",
        "    target = target.transpose(0, 1)\n",
        "    source, target = source.to(device), target.to(device)\n",
        "\n",
        "    # getting the respective predictions\n",
        "    outputs = model(source, target)\n",
        "    preds = outputs.argmax(2)\n",
        "    return (target, preds)\n",
        "\n",
        "\n",
        "def evaluate(model: nn.Module, dataloader: DataLoader, device: str=\"cuda\") -> tuple[int, int]:\n",
        "    \"\"\"\n",
        "    Evaluates your model!\n",
        "\n",
        "    Parameters\n",
        "    ----------\n",
        "    model : nn.Module\n",
        "        your model!\n",
        "    dataloader : DataLoader\n",
        "        a dataloader of the testing data from build_dataloaders\n",
        "    device : str\n",
        "        device that the model is running on\n",
        "\n",
        "    Returns\n",
        "    ----------\n",
        "    tuple[int, int]\n",
        "        per-token accuracy and exact_match accuracy\n",
        "    \"\"\"\n",
        "    model.to(device)\n",
        "    model.eval()\n",
        "    correct_tok = 0\n",
        "    toks = 0\n",
        "    correct_seq = 0\n",
        "    seqs = 0\n",
        "\n",
        "    with torch.no_grad():\n",
        "        for batch in dataloader:\n",
        "            # Getting the models predictions\n",
        "            target, preds = get_preds(batch, model, device)\n",
        "\n",
        "            for i in range(target.shape[0]):\n",
        "                # Making sure we are not overcounting the accuracy of the paddings\n",
        "                predictions = preds[i, :(target == LF_EOS_INDEX).float().argmax(dim=1)[i]+1]\n",
        "                new_target = target[i, :(target == LF_EOS_INDEX).float().argmax(dim=1)[i]+1]\n",
        "\n",
        "                # Calculating the frequencies of exact tokens and sequences\n",
        "                c = (predictions == new_target).sum().item()\n",
        "                correct_tok += c\n",
        "                toks += new_target.shape[0]\n",
        "\n",
        "                s = (predictions == new_target).all(dim=0).sum().item()\n",
        "                correct_seq += s\n",
        "                seqs += 1\n",
        "\n",
        "    return correct_tok / toks, correct_seq / seqs"
      ]
    },
    {
      "cell_type": "markdown",
      "metadata": {
        "id": "fOkicC3yLkfv"
      },
      "source": [
        "# Run this!"
      ]
    },
    {
      "cell_type": "code",
      "source": [
        "def run_model(embed_size, hidden_size, num_layers, dropout, num_epochs, learning_rate, batch_size, teacher_forcing_ratio, is_search=True):\n",
        "    device = \"cuda\" if torch.cuda.is_available() else \"cpu\"\n",
        "    jobs_train, jobs_test = build_datasets()\n",
        "    dataloader_train, dataloader_test = build_dataloaders(jobs_train, jobs_test, train_batch_size=batch_size)\n",
        "    model = create_model(embed_size, hidden_size, num_layers, dropout, teacher_forcing_ratio)\n",
        "    model = train(model, dataloader_train, num_epochs=num_epochs, device=device, learning_rate=learning_rate, is_search=is_search)\n",
        "    test_per_token_accuracy, test_exact_match_accuracy = evaluate(model, dataloader_test, device=device)\n",
        "    if not is_search:\n",
        "      print(f'Test Per-token Accuracy: {test_per_token_accuracy}')\n",
        "      print(f'Test Exact-match Accuracy: {test_exact_match_accuracy}')\n",
        "    return (test_per_token_accuracy, test_exact_match_accuracy)"
      ],
      "metadata": {
        "id": "T0UTAW90qF2z"
      },
      "execution_count": 93,
      "outputs": []
    },
    {
      "cell_type": "code",
      "source": [
        "import itertools\n",
        "\n",
        "def hyperparameter_search(hyperparameter_grid):\n",
        "    best_score = -float('inf')\n",
        "    best_token_score = -float('inf')\n",
        "    best_hyperparameters = {}\n",
        "\n",
        "    # Making combinations of hyperparameters so that it is easy to iterate\n",
        "    param_combinations = itertools.product(*hyperparameter_grid.values())\n",
        "    param_names = list(hyperparameter_grid.keys())\n",
        "\n",
        "    # Running through each of the hyperparameters\n",
        "    for combination in param_combinations:\n",
        "        hyperparameters = dict(zip(param_names, combination))\n",
        "        token, exact = run_model(**hyperparameters)\n",
        "\n",
        "        # Updating the best hyperparameter set accordingly\n",
        "        if exact > best_score:\n",
        "            best_score = exact\n",
        "            best_token_score = token\n",
        "            best_hyperparameters = hyperparameters\n",
        "\n",
        "    print(f\"Best Hyperparameters: {best_hyperparameters}\")\n",
        "    print(f\"Best Exact Score: {best_score}\")\n",
        "    print(f\"Corresponding Per-Token Score: {best_token_score}\")\n",
        "    return best_hyperparameters\n",
        "\n",
        "# Hyperparameter Space that was searched\n",
        "hyperparameter_grid = {\n",
        "    'embed_size': [75, 100, 150, 250],\n",
        "    'hidden_size': [50, 100, 150, 200],\n",
        "    'learning_rate': [0.001, 0.002, 0.005],\n",
        "    'num_layers': [1],\n",
        "    'num_epochs': [20],\n",
        "    'dropout': [0.02],\n",
        "    'teacher_forcing_ratio': [1],\n",
        "    'batch_size': [20]\n",
        "}\n",
        "\n",
        "best_hps = hyperparameter_search(hyperparameter_grid)\n"
      ],
      "metadata": {
        "colab": {
          "base_uri": "https://localhost:8080/"
        },
        "id": "O9QRZO1f-kbG",
        "outputId": "17a97518-0375-42e8-a5fc-0ba4e070cc57"
      },
      "execution_count": 145,
      "outputs": [
        {
          "output_type": "stream",
          "name": "stdout",
          "text": [
            "Best Hyperparameters: {'embed_size': 75, 'hidden_size': 150, 'learning_rate': 0.005, 'num_layers': 1, 'num_epochs': 20, 'dropout': 0.02, 'teacher_forcing_ratio': 1, 'batch_size': 20}\n",
            "Best Exact Score: 0.8357142857142857\n",
            "Corresponding Per-Token Score: 0.9697974217311234\n"
          ]
        }
      ]
    },
    {
      "cell_type": "code",
      "source": [
        "def main(epochs):\n",
        "    best_hps={'embed_size': 75, 'hidden_size': 150, 'learning_rate': 0.005, 'num_layers': 1, 'num_epochs': 20, 'dropout': 0.02, 'teacher_forcing_ratio': 1, 'batch_size': 20}\n",
        "\n",
        "    run_model(embed_size=best_hps['embed_size'],\n",
        "              hidden_size=best_hps['hidden_size'],\n",
        "              num_layers=best_hps['num_layers'],\n",
        "              dropout=best_hps['dropout'],\n",
        "              num_epochs=epochs,\n",
        "              learning_rate=best_hps['learning_rate'],\n",
        "              batch_size=best_hps['batch_size'],\n",
        "              teacher_forcing_ratio=best_hps['teacher_forcing_ratio'],\n",
        "              is_search=False)"
      ],
      "metadata": {
        "id": "XAEvOQlUja10"
      },
      "execution_count": 98,
      "outputs": []
    },
    {
      "cell_type": "code",
      "source": [
        "# 5 epochs\n",
        "main(5)"
      ],
      "metadata": {
        "colab": {
          "base_uri": "https://localhost:8080/"
        },
        "id": "MiDjCx7ijHOx",
        "outputId": "13b1a5ea-f6ea-47ab-d57c-2e1198188db9"
      },
      "execution_count": 99,
      "outputs": [
        {
          "output_type": "stream",
          "name": "stdout",
          "text": [
            "Epoch 1 Loss 0.8032\n",
            "Epoch 2 Loss 0.2269\n",
            "Epoch 3 Loss 0.1450\n",
            "Epoch 4 Loss 0.1098\n",
            "Epoch 5 Loss 0.0806\n",
            "Test Per-token Accuracy: 0.8758747697974217\n",
            "Test Exact-match Accuracy: 0.4885714285714286\n"
          ]
        }
      ]
    },
    {
      "cell_type": "code",
      "source": [
        "# 20 epochs\n",
        "main(20)"
      ],
      "metadata": {
        "colab": {
          "base_uri": "https://localhost:8080/"
        },
        "id": "r_PVyrDrtNwg",
        "outputId": "79df3f60-4dd4-4874-a13f-a6b8b8067347"
      },
      "execution_count": 148,
      "outputs": [
        {
          "output_type": "stream",
          "name": "stderr",
          "text": [
            "/usr/local/lib/python3.10/dist-packages/torch/nn/modules/rnn.py:123: UserWarning: dropout option adds dropout after all but last recurrent layer, so non-zero dropout expects num_layers greater than 1, but got dropout=0.02 and num_layers=1\n",
            "  warnings.warn(\n"
          ]
        },
        {
          "output_type": "stream",
          "name": "stdout",
          "text": [
            "Epoch: 1 Loss 0.7505\n",
            "Epoch: 2 Loss 0.2189\n",
            "Epoch: 3 Loss 0.1542\n",
            "Epoch: 4 Loss 0.1061\n",
            "Epoch: 5 Loss 0.0760\n",
            "Epoch: 6 Loss 0.0578\n",
            "Epoch: 7 Loss 0.0417\n",
            "Epoch: 8 Loss 0.0304\n",
            "Epoch: 9 Loss 0.0240\n",
            "Epoch: 10 Loss 0.0202\n",
            "Epoch: 11 Loss 0.0190\n",
            "Epoch: 12 Loss 0.0173\n",
            "Epoch: 13 Loss 0.0168\n",
            "Epoch: 14 Loss 0.0094\n",
            "Epoch: 15 Loss 0.0061\n",
            "Epoch: 16 Loss 0.0047\n",
            "Epoch: 17 Loss 0.0042\n",
            "Epoch: 18 Loss 0.0057\n",
            "Epoch: 19 Loss 0.0048\n",
            "Epoch: 20 Loss 0.0053\n",
            "Test Per-token Accuracy: 0.972744014732965\n",
            "Test Exact-match Accuracy: 0.8142857142857143\n"
          ]
        }
      ]
    }
  ],
  "metadata": {
    "accelerator": "GPU",
    "colab": {
      "gpuType": "T4",
      "provenance": []
    },
    "kernelspec": {
      "display_name": "Python 3",
      "name": "python3"
    },
    "language_info": {
      "name": "python"
    }
  },
  "nbformat": 4,
  "nbformat_minor": 0
}